{
  "cells": [
    {
      "cell_type": "markdown",
      "metadata": {},
      "source": [
        "# 笔记本代码单元\n",
        "\n",
        "本笔记主要介绍笔记中的不同应用场景，如更新输出、引用 NuGets 等。 \n",
        "\n",
        "要学习 C# - 请查看我们的 C# 101 系列 - [第一课 - Hello World](https://github.com/vfp9/csharp-notebooks/blob/main/csharp-101_CN/01-Hello%20World.ipynb)！"
      ]
    },
    {
      "cell_type": "markdown",
      "metadata": {},
      "source": [
        "### 引用 NuGets"
      ]
    },
    {
      "cell_type": "code",
      "execution_count": null,
      "metadata": {
        "dotnet_interactive": {
          "language": "csharp"
        },
        "vscode": {
          "languageId": "polyglot-notebook"
        }
      },
      "outputs": [],
      "source": [
        "#r \"nuget:System.Text.Json\""
      ]
    },
    {
      "cell_type": "markdown",
      "metadata": {},
      "source": [
        "欲了解更多详情，请查阅 - [Nuget 概览](https://github.com/dotnet/interactive/blob/main/docs/nuget-overview.md)"
      ]
    },
    {
      "cell_type": "markdown",
      "metadata": {},
      "source": [
        "## 引用程序集"
      ]
    },
    {
      "cell_type": "code",
      "execution_count": null,
      "metadata": {
        "dotnet_interactive": {
          "language": "csharp"
        },
        "vscode": {
          "languageId": "polyglot-notebook"
        }
      },
      "outputs": [],
      "source": [
        "#r \"<path to .dll>\""
      ]
    },
    {
      "cell_type": "markdown",
      "metadata": {},
      "source": [
        "## 显示和更新值"
      ]
    },
    {
      "cell_type": "markdown",
      "metadata": {},
      "source": [
        "要显示值，您有几个选项。\n",
        "\n",
        "### Console.WriteLine\n",
        "\n",
        "是的，它可以！您可以像使用控制台应用程序一样使用 Console.WriteLine，并显示输出结果。"
      ]
    },
    {
      "cell_type": "code",
      "execution_count": null,
      "metadata": {
        "dotnet_interactive": {
          "language": "csharp"
        },
        "vscode": {
          "languageId": "polyglot-notebook"
        }
      },
      "outputs": [],
      "source": [
        "Console.WriteLine(\"Hello Console.WriteLine\");"
      ]
    },
    {
      "cell_type": "markdown",
      "metadata": {},
      "source": [
        "### 最后一行的值\n",
        "如果单元格的最后一行是变量、对象或字面量，其值将作为输出显示。"
      ]
    },
    {
      "cell_type": "code",
      "execution_count": null,
      "metadata": {
        "dotnet_interactive": {
          "language": "csharp"
        },
        "vscode": {
          "languageId": "polyglot-notebook"
        }
      },
      "outputs": [],
      "source": [
        "\"This will work!\""
      ]
    },
    {
      "cell_type": "code",
      "execution_count": null,
      "metadata": {
        "dotnet_interactive": {
          "language": "csharp"
        },
        "vscode": {
          "languageId": "polyglot-notebook"
        }
      },
      "outputs": [],
      "source": [
        "var x =  \"This will work too\";\n",
        "x"
      ]
    },
    {
      "cell_type": "markdown",
      "metadata": {},
      "source": [
        "### 内置 “显示” 功能\n",
        "显示功能是另一种选择，它允许您更新显示值。这是在长时间运行任务时显示和更新信息的好方法。"
      ]
    },
    {
      "cell_type": "code",
      "execution_count": null,
      "metadata": {
        "dotnet_interactive": {
          "language": "csharp"
        },
        "vscode": {
          "languageId": "polyglot-notebook"
        }
      },
      "outputs": [],
      "source": [
        "var displayedValue = 0.Display();\n",
        "\n",
        "for (int x = 0; x<=10; x++)\n",
        "{\n",
        "\tawait Task.Delay(1000);\n",
        "\tdisplayedValue.Update(x);\n",
        "}"
      ]
    }
  ],
  "metadata": {
    "kernelspec": {
      "display_name": ".NET (C#)",
      "language": "C#",
      "name": ".net-csharp"
    },
    "language_info": {
      "file_extension": ".cs",
      "mimetype": "text/x-csharp",
      "name": "C#",
      "pygments_lexer": "csharp",
      "version": "8.0"
    },
    "polyglot_notebook": {
      "kernelInfo": {
        "defaultKernelName": "csharp",
        "items": [
          {
            "aliases": [],
            "name": "csharp"
          }
        ]
      }
    }
  },
  "nbformat": 4,
  "nbformat_minor": 4
}
