{
  "cells": [
    {
      "cell_type": "markdown",
      "metadata": {},
      "source": [
        "# Markdown 单元格\n",
        "\n",
        "Markdown 单元格可以与代码单元格混合使用，从而将笔记变成教程，或者只是为代码的某个部分提供上下文。如需完整的 Markdown 文档，请访问 [markdownguide.org](https://www.markdownguide.org/)，但我们希望这份小抄能帮助你入门。\n",
        "\n",
        "点击编辑 Markdown 按钮 ![Edit Button](https://github.com/JakeRadMSFT/csharp-notebooks/raw/main/笔记入门/images/edit%20markdown.png) 查看语法。\n"
      ]
    },
    {
      "cell_type": "markdown",
      "metadata": {},
      "source": [
        "# Headers\n",
        "# H1  \n",
        "## H2  \n",
        "### H3  \n",
        "#### H4  \n",
        "##### H5  \n",
        "###### H6  "
      ]
    },
    {
      "cell_type": "markdown",
      "metadata": {},
      "source": [
        "# 段落\n",
        "\n",
        "这是段落中的一行。\n",
        "\n",
        "这是下一个段落！"
      ]
    },
    {
      "cell_type": "markdown",
      "metadata": {},
      "source": [
        "# 换行\n",
        "\n",
        "行尾空两格即可。  \n",
        "第二行"
      ]
    },
    {
      "cell_type": "markdown",
      "metadata": {},
      "source": [
        "# 强调\n",
        "This is a **bold text**.  \n",
        "This is *Italicized text*.  \n",
        "This is ~~strikethrough text~~.  \n",
        "This is ==highlighted text==.  \n",
        "This is water - H~2~0  \n",
        "This is x * x - X^2^\n"
      ]
    },
    {
      "cell_type": "markdown",
      "metadata": {},
      "source": [
        "# 小引\n",
        "\n",
        "> 所有这些文字都将使用一个小引。\n",
        ">\n",
        "> 这段文字将放在同一个小引中。\n",
        ">\n",
        ">> 这将是一个嵌套小引。"
      ]
    },
    {
      "cell_type": "markdown",
      "metadata": {},
      "source": [
        "# 列表\n",
        "\n",
        "## 排序列表\n",
        "\n",
        "1. First item\n",
        "1. Second item\n",
        "1. Third item\n",
        "1. Fourth item\n",
        "\n",
        "## 无序列表\n",
        "- First item\n",
        "- Second item\n",
        "- Third item\n",
        "- Fourth item\n",
        "\n",
        "## 嵌套列表\n",
        "\n",
        "1. First item\n",
        "    - First item\n",
        "    - Second item\n",
        "    - Third item\n",
        "    - Fourth item\n",
        "1. Second item\n",
        "1. Third item\n",
        "1. Fourth item"
      ]
    },
    {
      "cell_type": "markdown",
      "metadata": {},
      "source": [
        "# 代码\n",
        "\n",
        "`var x = 5;`\n",
        "\n",
        "使用 `Console.WriteLine` 进行输出。\n",
        "\n",
        "```\n",
        "{\n",
        "  \"firstName\": \"Hello\",\n",
        "  \"lastName\": \"World\",\n",
        "}\n",
        "```"
      ]
    },
    {
      "cell_type": "markdown",
      "metadata": {},
      "source": [
        "# 水平规则\n",
        "\n",
        "***\n",
        "---\n",
        "________________"
      ]
    },
    {
      "cell_type": "markdown",
      "metadata": {},
      "source": [
        "# 链接\n",
        "\n",
        "[This Notebook](https://github.com/JakeRadMSFT/csharp-notebooks/blob/main/notebook-getting-started/03-Markdown%20Cells.ipynb)"
      ]
    },
    {
      "cell_type": "markdown",
      "metadata": {},
      "source": [
        "# 图像\n",
        "\n",
        "Play Button: ![Play Button](https://github.com/JakeRadMSFT/csharp-notebooks/raw/main/notebook-getting-started/images/play.png)"
      ]
    },
    {
      "cell_type": "markdown",
      "metadata": {},
      "source": [
        "# 表格\n",
        "\n",
        "| Column 1 (Aligned Left) | Column 2 (Aligned Center) | Column 3 (Aligned Right)     |\n",
        "| :---        |    :----:   |          ---: |\n",
        "| Row 1 | Value       | Value   |\n",
        "| Row 2 | Value      | Value      |"
      ]
    }
  ],
  "metadata": {
    "kernelspec": {
      "display_name": ".NET (C#)",
      "language": "C#",
      "name": ".net-csharp"
    },
    "language_info": {
      "file_extension": ".cs",
      "mimetype": "text/x-csharp",
      "name": "C#",
      "pygments_lexer": "csharp",
      "version": "8.0"
    },
    "polyglot_notebook": {
      "kernelInfo": {
        "defaultKernelName": "csharp",
        "items": [
          {
            "aliases": [],
            "name": "csharp"
          }
        ]
      }
    }
  },
  "nbformat": 4,
  "nbformat_minor": 4
}
