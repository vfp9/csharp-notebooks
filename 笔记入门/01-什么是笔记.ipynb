{
  "cells": [
    {
      "cell_type": "markdown",
      "metadata": {},
      "source": [
        "## 什么是笔记？\n",
        "笔记是一种交互式工具，可将代码（C#、F#、Python......）、输出/可视化和文档（Markdown）集中在一处。\n",
        "\n",
        "## 笔记有哪些用途？\n",
        "笔记在统计学、数据科学和机器学习应用中很受欢迎。这些领域中的每个领域都将笔记作为一种工具，用于尝试、更改和查看输出效果。数据科学和机器学习的实验性和探索性使笔记成为一个很好的归宿，但这肯定不是笔记的唯一用途！\n",
        "\n",
        "## 如何开始？\n",
        "点击下方的执行单元格 ![执行单元格](https://github.com/JakeRadMSFT/csharp-notebooks/raw/main/notebook-getting-started/images/play.png) 运行单个单元格，或点击上方的 “全部运行” ![全部运行](https://github.com/JakeRadMSFT/csharp-notebooks/raw/main/notebook-getting-started/images/run%20all.png) 运行全部单元格。"
      ]
    },
    {
      "cell_type": "code",
      "execution_count": null,
      "metadata": {
        "dotnet_interactive": {
          "language": "csharp"
        },
        "vscode": {
          "languageId": "polyglot-notebook"
        }
      },
      "outputs": [],
      "source": [
        "Console.WriteLine(\"Hello Notebooks!\");"
      ]
    },
    {
      "cell_type": "markdown",
      "metadata": {},
      "source": [
        "要添加更多单元格，可以使用悬停在单元格上方或下方时显示的按钮！[悬停按钮](https://github.com/vfp9/csharp-notebooks/tree/main/笔记入门/images/hover%20buttons.png)。\n",
        "\n",
        "还可以使用键盘快捷键： [键盘快捷键参考](https://raw.githubusercontent.com/JakeRadMSFT/csharp-notebooks/main/notebook-getting-started/REF-VS%20Keyboard%20Shortcuts.ipynb)"
      ]
    },
    {
      "cell_type": "markdown",
      "metadata": {},
      "source": [
        "## 代码单元格\n",
        "\n",
        "代码单元格具有 C# 的所有强大功能。下面是两个单元格的简单示例，展示了如何跨单元格访问变量并保持状态。\n",
        "\n",
        "请尝试多次点击执行第二个单元格！"
      ]
    },
    {
      "cell_type": "code",
      "execution_count": null,
      "metadata": {
        "dotnet_interactive": {
          "language": "csharp"
        },
        "vscode": {
          "languageId": "polyglot-notebook"
        }
      },
      "outputs": [],
      "source": [
        "var x = 5;\n",
        "x"
      ]
    },
    {
      "cell_type": "code",
      "execution_count": null,
      "metadata": {
        "dotnet_interactive": {
          "language": "csharp"
        },
        "vscode": {
          "languageId": "polyglot-notebook"
        }
      },
      "outputs": [],
      "source": [
        "x = x + 10;\n",
        "x"
      ]
    },
    {
      "cell_type": "markdown",
      "metadata": {},
      "source": [
        "要深入了解代码单元，请查看本笔记 - [代码单元格](https://github.com/JakeRadMSFT/csharp-notebooks/blob/main/笔记入门/02-代码单元格.ipynb)"
      ]
    },
    {
      "cell_type": "markdown",
      "metadata": {},
      "source": [
        "## Markdown 单元格\n",
        "\n",
        "Markdown 单元格是本文档中所有包含格式化信息的单元格。每个单元格都有两种模式--编辑模式和查看模式。\n",
        "\n",
        "要进入编辑模式，请点击铅笔按钮 ![编辑按钮](https://github.com/JakeRadMSFT/csharp-notebooks/raw/main/notebook-getting-started/images/edit%20markdown.png)，该按钮会在 Markdown 单元格有焦点时显示。\n",
        "\n",
        "要进入查看模式，请点击复选标记按钮 ![提交按钮](https://github.com/JakeRadMSFT/csharp-notebooks/raw/main/notebook-getting-started/images/save%20markdown.png) 查看您的更改。"
      ]
    },
    {
      "cell_type": "markdown",
      "metadata": {},
      "source": [
        "要深入了解 Markdown 单元格，请查看此笔记 - [Markdown 单元格](https://github.com/JakeRadMSFT/csharp-notebooks/blob/main/笔记入门/03-Markdown%20单元格.ipynb)"
      ]
    }
  ],
  "metadata": {
    "kernelspec": {
      "display_name": ".NET (C#)",
      "language": "C#",
      "name": ".net-csharp"
    },
    "language_info": {
      "file_extension": ".cs",
      "mimetype": "text/x-csharp",
      "name": "C#",
      "pygments_lexer": "csharp",
      "version": "8.0"
    },
    "polyglot_notebook": {
      "kernelInfo": {
        "defaultKernelName": "csharp",
        "items": [
          {
            "aliases": [],
            "name": "csharp"
          }
        ]
      }
    }
  },
  "nbformat": 4,
  "nbformat_minor": 4
}
