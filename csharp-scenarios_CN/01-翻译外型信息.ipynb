{
  "cells": [
    {
      "cell_type": "markdown",
      "metadata": {},
      "source": [
        "# 翻译外星信息\n",
        "\n",
        "## 简介\n",
        "在这个适合初学者的编码挑战中，你将学习到有关字符串的所有知识，以及字符是如何串成字符串的！字符串是软件开发人员每天都要使用的重要数据类型。今天，我们将使用 C#（读作 see-sharp）语言将一条外星信息翻译成英文！\n",
        "\n",
        "### 学习目标\n",
        "1. 了解什么是字符串  \n",
        "1. 创建字符串数据 \n",
        "1. 通过连接和插值将字符串数据处理成新字符串 \n",
        "\n",
        "### 本笔记本中使用的实用术语概述\n",
        "1. [字符串](https://docs.microsoft.com/dotnet/api/system.string?view=net-6.0)\n",
        "2. [字符](https://docs.microsoft.com/dotnet/api/system.char?view=net-6.0) \n",
        "3. [变量](https://docs.microsoft.com/dotnet/csharp/language-reference/language-specification/variables)\n",
        "4. [控制台](https://docs.microsoft.com/windows/console/consoles)\n",
        "5. [开关表达式](https://docs.microsoft.com/dotnet/csharp/language-reference/operators/switch-expression)\n",
        "6. [循环](https://docs.microsoft.com/dotnet/csharp/language-reference/statements/iteration-statements#the-foreach-statement)。\n",
        "7. [字符串插值](https://docs.microsoft.com/dotnet/csharp/language-reference/tokens/interpolated?msclkid=1b008d82d0b611ec96aa6fdaf77cbe48)"
      ]
    },
    {
      "cell_type": "markdown",
      "metadata": {},
      "source": [
        "![Alien Image](https://raw.githubusercontent.com/katiesavage/csharp-notebooks/main/csharp-scenarios/images/alien-ship.png)"
      ]
    },
    {
      "cell_type": "markdown",
      "metadata": {},
      "source": [
        "## 场景\n",
        "\n",
        "想象一下，你是一名语言学家，受雇于政府，帮助与最近登陆地球的一群外星人沟通。这些外星人说的是一种非人类语言，被称为 X 语言（外星语）。幸运的是，你的语言学搭档比你早到达现场，并能为 X 语言中的一些基本词汇生成英文翻译。作为她的语言学搭档，你的工作就是**用代码**将较长的 X 语言信息翻译成英语。 \n",
        "\n",
        "**语言学家**使用计算和人工智能来研究自然语言和自然语言模式。这些语言学家利用语言数据为不同的语言建模，并能以多种不同的方式应用这些模型。聊天机器人、语音识别系统和搜索引擎等工具都是在计算语言学的帮助下建立的。"
      ]
    },
    {
      "cell_type": "markdown",
      "metadata": {},
      "source": [
        "### Console.WriteLine\n",
        "### 向外星人介绍自己\n",
        "\n",
        "当你第一次到达现场时，你的语言伙伴鼓励你向外星人介绍自己。因为这是一个快速的自我介绍，所以她会为你翻译这句话。\n",
        "\n",
        "为此，你需要编写一个字符串显示到控制台。 \n",
        "\n",
        "**字符串**是一个字符序列。字符串是一种特别有用的数据类型，它允许你与程序的用户进行交互。在 C# 中，字符串以引号开始和结束。例如，“这是一个字符串”。 \n",
        "\n",
        "要向外星人问好，请将下面代码中的 *myName* 替换为您的姓名。然后，运行代码。   "
      ]
    },
    {
      "cell_type": "code",
      "execution_count": null,
      "metadata": {
        "dotnet_interactive": {
          "language": "csharp"
        },
        "vscode": {
          "languageId": "polyglot-notebook"
        }
      },
      "outputs": [],
      "source": [
        "Console.WriteLine(\"Hi extraterrestrials, my name is myName.\");"
      ]
    },
    {
      "cell_type": "markdown",
      "metadata": {},
      "source": [
        "*Console.WriteLine()* [语句](https://docs.microsoft.com/dotnet/csharp/programming-guide/statements-expressions-operators/statements) 允许我们将字符串写入控制台。让我们来分析一下。\n",
        "\n",
        "> * [Console](https://docs.microsoft.com/dotnet/api/system.console?view=net-6.0) 可以用来输出字符串。\n",
        "> * [WriteLine() 方法](https://docs.microsoft.com/dotnet/api/system.console.writeline?view=net-6.0) 将你在括号中指定的数据写入输出。"
      ]
    },
    {
      "cell_type": "markdown",
      "metadata": {},
      "source": [
        "## 使用字符串变量\n",
        "### 向外星人详细介绍你自己\n",
        "了不起的工作！你的语言伙伴说你应该多介绍一下自己，让外星人知道你是做什么的。但是，她说只能用你的名字来称呼你自己，而不能用我这样的代词，因为她还不会翻译代词。把所有*myName*替换成你的名字，然后点击 “运行”。"
      ]
    },
    {
      "cell_type": "code",
      "execution_count": null,
      "metadata": {
        "dotnet_interactive": {
          "language": "csharp"
        },
        "vscode": {
          "languageId": "polyglot-notebook"
        }
      },
      "outputs": [],
      "source": [
        "Console.WriteLine(\"Hi extraterrestrials, my name is myName.\"); \n",
        "Console.WriteLine(\"myName is a researcher.\"); \n",
        "Console.WriteLine(\"myName studies language.\"); "
      ]
    },
    {
      "cell_type": "markdown",
      "metadata": {},
      "source": [
        "### 向他人介绍外星人\n",
        "干得好！现在，你的研究团队的其他成员也想用你的代码来介绍自己。但是，用每个研究人员的名字来修改所有的 *myName* 是一件很繁琐的事情，而且很可能会出错。请注意，在我们要输出的字符串中，唯一改变的就是 myName。简化代码和减少出错空间的一种方法是使用变量和字符串插值。**变量**是一个符号，你可以用不同的值运行相同的代码。\n",
        "\n",
        "我们可以创建一个名为 name 的字符串变量，将其赋值给一个不同的名字，这样就可以更新整个介绍中的所有 myNames，而不用替换每个 *myName*！\n",
        "\n",
        "我们还需要使用**字符串插值**来使用字符串中的变量。这样就可以从包含嵌入代码的字符串中构造出一个结果字符串。每个插值字符串都有两个部分。\n",
        "1. 字符串以开头引号前的 `$` 开头。\n",
        "2. 至少一个内插表达式。您必须用大括号 `{` `}`将这些内插表达式包起来。您可以将任何返回值的 C# 表达式放在大括号内。在本练习中，我们使用的是字符串。\n",
        "\n",
        "请尝试运行下面的示例，看看它是如何工作的。"
      ]
    },
    {
      "cell_type": "code",
      "execution_count": null,
      "metadata": {
        "dotnet_interactive": {
          "language": "csharp"
        },
        "vscode": {
          "languageId": "polyglot-notebook"
        }
      },
      "outputs": [],
      "source": [
        "var phoneNumber = 123456789;\n",
        "Console.WriteLine($\"For more help, please call {phoneNumber}\");"
      ]
    },
    {
      "cell_type": "markdown",
      "metadata": {},
      "source": [
        "在这个例子中，phoneNumber 变量被嵌入到了字符串中。\n",
        "\n",
        "现在，让我们用给外星人的信息试试这个方法。在下面的代码中，创建一个名为 `name` 的变量，并为其赋值 “myName”。然后，使用 `$`、`{` 和 `}`，将这三个语句转化为插值表达式。"
      ]
    },
    {
      "cell_type": "code",
      "execution_count": null,
      "metadata": {
        "dotnet_interactive": {
          "language": "csharp"
        },
        "vscode": {
          "languageId": "polyglot-notebook"
        }
      },
      "outputs": [],
      "source": [
        "Console.WriteLine(\"Hi extraterrestrials, my name is myName.\"); \n",
        "Console.WriteLine(\"myName is a researcher.\"); \n",
        "Console.WriteLine(\"myName studies language.\"); "
      ]
    },
    {
      "cell_type": "markdown",
      "metadata": {},
      "source": [
        "现在，您可以将姓名设置为被介绍人的姓名。试着将 *myName* 替换为 Joon 并运行它。 \n",
        "\n",
        "上述带有 Console.WriteLine 的行是**字符串字面量**，这意味着它是表示常规字符串的文本。 "
      ]
    },
    {
      "cell_type": "markdown",
      "metadata": {},
      "source": [
        "## 让我们翻译一条信息\n",
        "是时候开始翻译了。你的语言伙伴给你提供了下图，其中包括她能用 X 语言翻译的所有单词及其英文翻译。我们将用这些数据来翻译外星信息。\n",
        "\n",
        "#### 语言数据\n",
        "这些数据被组织成一个[switch 表达式](https://docs.microsoft.com/dotnet/csharp/language-reference/operators/switch-expression)。这个**switch 表达式**将外来词作为输入，并输出英语翻译。一般来说，switch 表达式会将输入与一系列情况进行匹配，输出取决于哪种情况被匹配。为了翻译信息，我们将使用这个开关表达式来帮助我们匹配外来词，并接收正确的英文单词。"
      ]
    },
    {
      "cell_type": "code",
      "execution_count": null,
      "metadata": {
        "dotnet_interactive": {
          "language": "csharp"
        },
        "vscode": {
          "languageId": "polyglot-notebook"
        }
      },
      "outputs": [],
      "source": [
        "string ToEnglish(string word) => word switch\n",
        "{\n",
        "    \"yoish\"     => \"the aliens\",\n",
        "    \"ceroyash\"  => \"Earth\",\n",
        "    \"nomshce\"   => \"want\",\n",
        "    \"warshel\"   => \"please\",\n",
        "    \"yoishel\"   => \"Alien planet\",\n",
        "    \"oppor\"     => \"need\",\n",
        "    \"afala\"     => \"trees\",\n",
        "    \"eshteve\"   => \"walk\",\n",
        "    \"blarg\"     => \"speak\",\n",
        "    \"shioy\"     => \"humans\",\n",
        "    \"abree\"     => \"help\",\n",
        "    \"shwaye\"    => \"crashed\",\n",
        "    \"ni\"        => \"on\",\n",
        "    \"coierm\"    => \"to go\",\n",
        "    \"lleog\"     => \"dirt\",\n",
        "    \"efellesh\"  => \"peace\",\n",
        "    \"veiesht\"   => \"home\",\n",
        "    \"shir\"      => \"can\",\n",
        "    \"argsha\"    => \"spaceship\",\n",
        "    _           => \"Unknown\"\n",
        "};"
      ]
    },
    {
      "cell_type": "markdown",
      "metadata": {},
      "source": [
        "如您所见，上述每个 X 语言单词都与英语单词相对应。例如，“Yoish” 的意思是 “the aliens”。"
      ]
    },
    {
      "cell_type": "markdown",
      "metadata": {},
      "source": [
        "看来外星人发出了第一条信息\n",
        "### “warshel abree yoish” "
      ]
    },
    {
      "cell_type": "markdown",
      "metadata": {},
      "source": [
        "对于我们的第一个翻译，让我们用对应的英语单词替换语言 X 中的每个单词。为此，我们将使用 [String.Replace 方法](https://docs.microsoft.com/dotnet/api/system.string.replace?view=net-6.0)。要正确使用该方法，我们需要输入要替换的字符串和替换字符串。运行下面的单元格，看看它是如何工作的。\n",
        "\n",
        "下面是一个示例："
      ]
    },
    {
      "cell_type": "code",
      "execution_count": null,
      "metadata": {
        "dotnet_interactive": {
          "language": "csharp"
        },
        "vscode": {
          "languageId": "polyglot-notebook"
        }
      },
      "outputs": [],
      "source": [
        "var stringName = \"He is cold\"; \n",
        "\n",
        "// Below, we replace \"He\" with \"She\" and \"cold\" with \"cool\"\n",
        "stringName = stringName.Replace(\"He\", \"She\").Replace(\"cold\",\"cool\"); \n",
        "\n",
        "Console.WriteLine(stringName);"
      ]
    },
    {
      "cell_type": "markdown",
      "metadata": {},
      "source": [
        ">注意，你可以在一条语句中使用多个 Replaces\n",
        "\n",
        "现在，让我们用外星信息试一试。"
      ]
    },
    {
      "cell_type": "code",
      "execution_count": null,
      "metadata": {
        "dotnet_interactive": {
          "language": "csharp"
        },
        "vscode": {
          "languageId": "polyglot-notebook"
        }
      },
      "outputs": [],
      "source": [
        "// here’s the alien message \n",
        "\n",
        "var message = \"Warshel abree yoish\";\n",
        "\n",
        "// try replacing the words in language x with their English counterparts using the Replace method \n",
        "\n",
        "// print the message\n",
        "Console.WriteLine(message);"
      ]
    },
    {
      "cell_type": "markdown",
      "metadata": {},
      "source": [
        "## 让我们使用循环\n",
        "\n",
        "看来又有外星信息进来了\n",
        "### Yoish shwaye ni ceroyash. Yoish oppor shioy abree coierm veiesht. Shir shioy abree yoish? \n",
        "对于像这样较长的信息，逐个替换单词有点乏味。我们可以提高这一过程的效率。试想一下，如果我们能编写一段代码，逐字逐句地处理未知的外星信息，找到每个单词的英文翻译，然后输出翻译后的英文信息，那该有多好。幸运的是，我们可以使用循环。**循环**是多次重复一个动作的方法。\n",
        "\n",
        "我们将使用上述 ToEnglish **switch 表达式**，将外星信息中的每个 X 语言单词翻译成英语。"
      ]
    },
    {
      "cell_type": "markdown",
      "metadata": {},
      "source": [
        "在对句子中的单词进行循环之前，我们需要将消息字符串分割成单词。为此，我们将使用 [String.Split()](https://docs.microsoft.com/dotnet/api/system.string.split?view=net-6.0) 方法。我们向 String.Split() 方法传递一个分隔字符，该方法将使用该字符将字符串分割成子串。在句子中，我们可以选择空格“”作为分隔符，因为每个单词之间都有一个空格。在下面的单元格中，使用 String.Split() 将句子字符串分割成单词子串。"
      ]
    },
    {
      "cell_type": "markdown",
      "metadata": {},
      "source": [
        "![Split Method Image](https://raw.githubusercontent.com/katiesavage/csharp-notebooks/main/csharp-scenarios/images/split-method.png)"
      ]
    },
    {
      "cell_type": "markdown",
      "metadata": {},
      "source": [
        "现在，我们可以将句子串拆分成单词子串，是时候对它们进行循环和翻译了！为此，我们将使用 [for 循环](https://docs.microsoft.com/dotnet/csharp/language-reference/statements/iteration-statements#the-for-statement)。这是一种特殊的循环类型，它可以在指定次数内执行一条语句。\n",
        "\n",
        "语法如下："
      ]
    },
    {
      "cell_type": "code",
      "execution_count": null,
      "metadata": {
        "dotnet_interactive": {
          "language": "csharp"
        },
        "vscode": {
          "languageId": "polyglot-notebook"
        }
      },
      "outputs": [],
      "source": [
        "var sentence = \"this is an example\";\n",
        "\n",
        "// split the string into substrings\n",
        "string[] variableCollection = sentence.Split(' ');\n",
        "\n",
        "for(var i = 0; i < variableCollection.Length; i++) \n",
        "{ \n",
        "     // statements to be executed \n",
        "     Console.Write(variableCollection[i] + \" \");\n",
        "} "
      ]
    },
    {
      "cell_type": "markdown",
      "metadata": {},
      "source": [
        ">在我们的例子中，**数据类型**将是字符串。**变量名**可以是任何名称，但为了确保我们的代码易于理解，就叫它 word 吧。而**集合变量**将是我们的 X 语言单词列表。要执行的语句必须用大括号封装。\n",
        "\n",
        "现在，你可以将外星句子字符串拆分成单词子串，我们也知道了如何在这些字符串中循环，现在是翻译外星信息的时候了！"
      ]
    },
    {
      "cell_type": "code",
      "execution_count": null,
      "metadata": {
        "dotnet_interactive": {
          "language": "csharp"
        },
        "vscode": {
          "languageId": "polyglot-notebook"
        }
      },
      "outputs": [],
      "source": [
        "var alienMessage = \"yoish shwaye ni ceroyash yoish oppor shioy abree coierm veiesht shir shioy abree yoish\"; \n",
        "\n",
        "// split alienMessage into word substrings and store it in a variable called words \n",
        "string[] words = alienMessage.Split(' '); \n",
        "\n",
        "// Here is where we will loop through each word in words and translate them  \n",
        "for(var i = 0; i < words.Length; i++) \n",
        "{ \n",
        "\t// pass the word to the switch expression here \n",
        "}\n",
        "\n",
        "// turn the English word back into a string using the Join method\n",
        "var englishMessage = string.Join(\" \", words);\n",
        "Console.WriteLine(englishMessage);"
      ]
    },
    {
      "cell_type": "markdown",
      "metadata": {},
      "source": [
        "干得好！现在你可以把这条信息和你的翻译工具转发给外星人应急小组，让他们把外星人送回家。任务成功！"
      ]
    }
  ],
  "metadata": {
    "kernelspec": {
      "display_name": ".NET (C#)",
      "language": "C#",
      "name": ".net-csharp"
    },
    "language_info": {
      "file_extension": ".cs",
      "mimetype": "text/x-csharp",
      "name": "C#",
      "pygments_lexer": "csharp",
      "version": "8.0"
    },
    "polyglot_notebook": {
      "kernelInfo": {
        "defaultKernelName": "csharp",
        "items": [
          {
            "aliases": [],
            "name": "csharp"
          }
        ]
      }
    }
  },
  "nbformat": 4,
  "nbformat_minor": 4
}
